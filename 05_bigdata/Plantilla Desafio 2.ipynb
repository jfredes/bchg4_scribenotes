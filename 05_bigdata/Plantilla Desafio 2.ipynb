{
 "cells": [
  {
   "cell_type": "markdown",
   "metadata": {},
   "source": [
    "## Ejercicio 1: Ingesta de datos semiestructurados\n",
    "+ Utilizando las librerías requests y json , realize una consulta a la API BallDontLie https://www.balldontlie.io/.\n",
    "+ Mediante esta API, genere una consulta de 100 juegos (busquen el endpoint Get All Games en la página, dentro de Games ) . Puede usar la opción ?per_page=100 en la dirección de la API para lograr esto.\n",
    "+ Guarde la consulta en una variable, y asegúrese que ésta sea semiestructurada. Consulte los datos y metadatos asociados.\n",
    "+ Dentro de la lista de datos, comente cuáles son las llaves de cada registro.\n"
   ]
  },
  {
   "cell_type": "code",
   "execution_count": 1,
   "metadata": {},
   "outputs": [],
   "source": [
    "import requests\n",
    "import json\n",
    "import pandas as pd\n",
    "import numpy as np\n",
    "\n",
    "#Bajar datos en un JSON\n",
    "nba_games = requests.get('https://www.balldontlie.io/api/v1/games?per_page=100').json()\n"
   ]
  },
  {
   "cell_type": "code",
   "execution_count": 2,
   "metadata": {},
   "outputs": [
    {
     "data": {
      "text/plain": [
       "2"
      ]
     },
     "execution_count": 2,
     "metadata": {},
     "output_type": "execute_result"
    }
   ],
   "source": [
    "len(nba_games)"
   ]
  },
  {
   "cell_type": "code",
   "execution_count": 3,
   "metadata": {
    "scrolled": true
   },
   "outputs": [
    {
     "data": {
      "text/plain": [
       "{'id': 47179,\n",
       " 'date': '2019-01-30T00:00:00.000Z',\n",
       " 'home_team': {'id': 2,\n",
       "  'abbreviation': 'BOS',\n",
       "  'city': 'Boston',\n",
       "  'conference': 'East',\n",
       "  'division': 'Atlantic',\n",
       "  'full_name': 'Boston Celtics',\n",
       "  'name': 'Celtics'},\n",
       " 'home_team_score': 126,\n",
       " 'period': 4,\n",
       " 'postseason': False,\n",
       " 'season': 2018,\n",
       " 'status': 'Final',\n",
       " 'time': ' ',\n",
       " 'visitor_team': {'id': 4,\n",
       "  'abbreviation': 'CHA',\n",
       "  'city': 'Charlotte',\n",
       "  'conference': 'East',\n",
       "  'division': 'Southeast',\n",
       "  'full_name': 'Charlotte Hornets',\n",
       "  'name': 'Hornets'},\n",
       " 'visitor_team_score': 94}"
      ]
     },
     "execution_count": 3,
     "metadata": {},
     "output_type": "execute_result"
    }
   ],
   "source": [
    "nba_games['data'][0]"
   ]
  },
  {
   "cell_type": "code",
   "execution_count": 4,
   "metadata": {},
   "outputs": [
    {
     "data": {
      "text/plain": [
       "{'id': 2,\n",
       " 'abbreviation': 'BOS',\n",
       " 'city': 'Boston',\n",
       " 'conference': 'East',\n",
       " 'division': 'Atlantic',\n",
       " 'full_name': 'Boston Celtics',\n",
       " 'name': 'Celtics'}"
      ]
     },
     "execution_count": 4,
     "metadata": {},
     "output_type": "execute_result"
    }
   ],
   "source": [
    "nba_games['data'][0]['home_team']"
   ]
  },
  {
   "cell_type": "markdown",
   "metadata": {},
   "source": [
    "## Ejercicio 2: Organización de los datos\n",
    "+ En base a los datos consultados en la API, genere un objeto pd.DataFrame con la siguiente estructura:\n",
    "\n",
    "season|period|home|home_conference|home_division|visitor|visitor_conference|visitor_division|home_score|visitor_score\n",
    "---|---|---|---|---|---|---|---|---|---\n",
    "2018|4|Boston Celtics|East|Atlantic|Charlotte Hornets|East|Southeast|126|94\n",
    "2018|4|Boston Celtics|East|Atlantic|LA Clippers|West|Pacific|112|123\n",
    "2018|4|Philadelphia 76ers|East|Atlantic|Denver Nuggets|West|Northwest|117|110\n",
    "2018|4|Washington Wizards|East|Southeast|Cleveland Cavaliers|East|Central|119|106\n",
    "2018|4|Sacramento Kings|West|Pacific|Miami Heat|East|Southeast|102|96\n",
    "\n",
    "\n",
    "\n",
    "+ Para obtener la estructura, sólo puede utilizar operaciones map y comprensiones de lista.\n"
   ]
  },
  {
   "cell_type": "code",
   "execution_count": null,
   "metadata": {},
   "outputs": [],
   "source": [
    "#defino funcion que procesa cada elemento\n",
    "def process_nba_games(row): \n",
    "    season = row['season']\n",
    "    period = row['period']\n",
    "    \n",
    "    return [season, period]\n",
    "\n",
    "# mapeo datos usando la funcion\n",
    "records = list( map(process_nba_games, nba_games['data']))\n",
    "\n",
    "print(records)"
   ]
  },
  {
   "cell_type": "code",
   "execution_count": 10,
   "metadata": {},
   "outputs": [
    {
     "data": {
      "text/plain": [
       "'Boston Celtics'"
      ]
     },
     "execution_count": 10,
     "metadata": {},
     "output_type": "execute_result"
    }
   ],
   "source": [
    "nba_games['data'][0]['home_team']['full_name']"
   ]
  },
  {
   "cell_type": "code",
   "execution_count": 13,
   "metadata": {},
   "outputs": [
    {
     "name": "stdout",
     "output_type": "stream",
     "text": [
      "[[4, 'Boston Celtics'], [4, 'Boston Celtics'], [4, 'Philadelphia 76ers'], [4, 'Washington Wizards'], [4, 'Sacramento Kings'], [4, 'Detroit Pistons'], [4, 'New Orleans Pelicans'], [4, 'Indiana Pacers'], [4, 'Atlanta Hawks'], [4, 'Utah Jazz'], [4, 'Chicago Bulls'], [4, 'Dallas Mavericks'], [4, 'Philadelphia 76ers'], [4, 'Sacramento Kings'], [4, 'Milwaukee Bucks'], [4, 'Houston Rockets'], [4, 'Golden State Warriors'], [4, 'Atlanta Hawks'], [4, 'Houston Rockets'], [4, 'Toronto Raptors'], [4, 'Atlanta Hawks'], [4, 'Indiana Pacers'], [4, 'Chicago Bulls'], [4, 'Golden State Warriors'], [4, 'Memphis Grizzlies'], [7, 'Cleveland Cavaliers'], [4, 'Philadelphia 76ers'], [4, 'New Orleans Pelicans'], [4, 'Minnesota Timberwolves'], [4, 'New Orleans Pelicans'], [4, 'Indiana Pacers'], [4, 'Boston Celtics'], [4, 'New York Knicks'], [4, 'Chicago Bulls'], [4, 'Milwaukee Bucks'], [4, 'Cleveland Cavaliers'], [4, 'Orlando Magic'], [4, 'Toronto Raptors'], [4, 'Dallas Mavericks'], [4, 'Portland Trail Blazers'], [4, 'Philadelphia 76ers'], [4, 'Los Angeles Lakers'], [4, 'Charlotte Hornets'], [4, 'Memphis Grizzlies'], [4, 'New Orleans Pelicans'], [4, 'Denver Nuggets'], [4, 'Los Angeles Lakers'], [4, 'Indiana Pacers'], [4, 'Indiana Pacers'], [4, 'Sacramento Kings'], [5, 'Detroit Pistons'], [4, 'Brooklyn Nets'], [4, 'Golden State Warriors'], [4, 'Los Angeles Lakers'], [4, 'Washington Wizards'], [4, 'Golden State Warriors'], [4, 'Miami Heat'], [4, 'Atlanta Hawks'], [4, 'Washington Wizards'], [4, 'Milwaukee Bucks'], [4, 'Memphis Grizzlies'], [4, 'Detroit Pistons'], [4, 'Washington Wizards'], [4, 'Minnesota Timberwolves'], [4, 'Chicago Bulls'], [4, 'Dallas Mavericks'], [4, 'Utah Jazz'], [4, 'Philadelphia 76ers'], [4, 'Phoenix Suns'], [4, 'Sacramento Kings'], [4, 'Oklahoma City Thunder'], [5, 'Oklahoma City Thunder'], [4, 'Houston Rockets'], [4, 'Detroit Pistons'], [4, 'Chicago Bulls'], [4, 'New Orleans Pelicans'], [4, 'Orlando Magic'], [4, 'Toronto Raptors'], [4, 'San Antonio Spurs'], [4, 'Los Angeles Lakers'], [4, 'New Orleans Pelicans'], [4, 'Boston Celtics'], [4, 'San Antonio Spurs'], [4, 'Los Angeles Lakers'], [4, 'Portland Trail Blazers'], [4, 'Orlando Magic'], [4, 'Denver Nuggets'], [4, 'Sacramento Kings'], [4, 'Orlando Magic'], [4, 'Minnesota Timberwolves'], [4, 'Cleveland Cavaliers'], [4, 'Los Angeles Lakers'], [4, 'Atlanta Hawks'], [4, 'Orlando Magic'], [4, 'Denver Nuggets'], [4, 'Washington Wizards'], [4, 'Brooklyn Nets'], [4, 'Cleveland Cavaliers'], [4, 'Brooklyn Nets'], [4, 'Indiana Pacers']]\n"
     ]
    }
   ],
   "source": [
    "def myfun(x):\n",
    "    period = x['period']\n",
    "    team_name = x['home_team']['full_name']\n",
    "    return [period, team_name]\n",
    "\n",
    "records  = list(map(myfun, nba_games['data']))\n",
    "\n",
    "print(records)"
   ]
  },
  {
   "cell_type": "code",
   "execution_count": 16,
   "metadata": {},
   "outputs": [
    {
     "data": {
      "text/html": [
       "<div>\n",
       "<style scoped>\n",
       "    .dataframe tbody tr th:only-of-type {\n",
       "        vertical-align: middle;\n",
       "    }\n",
       "\n",
       "    .dataframe tbody tr th {\n",
       "        vertical-align: top;\n",
       "    }\n",
       "\n",
       "    .dataframe thead th {\n",
       "        text-align: right;\n",
       "    }\n",
       "</style>\n",
       "<table border=\"1\" class=\"dataframe\">\n",
       "  <thead>\n",
       "    <tr style=\"text-align: right;\">\n",
       "      <th></th>\n",
       "      <th>season</th>\n",
       "      <th>home_team</th>\n",
       "    </tr>\n",
       "  </thead>\n",
       "  <tbody>\n",
       "    <tr>\n",
       "      <th>0</th>\n",
       "      <td>4</td>\n",
       "      <td>Boston Celtics</td>\n",
       "    </tr>\n",
       "    <tr>\n",
       "      <th>1</th>\n",
       "      <td>4</td>\n",
       "      <td>Boston Celtics</td>\n",
       "    </tr>\n",
       "    <tr>\n",
       "      <th>2</th>\n",
       "      <td>4</td>\n",
       "      <td>Philadelphia 76ers</td>\n",
       "    </tr>\n",
       "    <tr>\n",
       "      <th>3</th>\n",
       "      <td>4</td>\n",
       "      <td>Washington Wizards</td>\n",
       "    </tr>\n",
       "    <tr>\n",
       "      <th>4</th>\n",
       "      <td>4</td>\n",
       "      <td>Sacramento Kings</td>\n",
       "    </tr>\n",
       "    <tr>\n",
       "      <th>5</th>\n",
       "      <td>4</td>\n",
       "      <td>Detroit Pistons</td>\n",
       "    </tr>\n",
       "    <tr>\n",
       "      <th>6</th>\n",
       "      <td>4</td>\n",
       "      <td>New Orleans Pelicans</td>\n",
       "    </tr>\n",
       "    <tr>\n",
       "      <th>7</th>\n",
       "      <td>4</td>\n",
       "      <td>Indiana Pacers</td>\n",
       "    </tr>\n",
       "    <tr>\n",
       "      <th>8</th>\n",
       "      <td>4</td>\n",
       "      <td>Atlanta Hawks</td>\n",
       "    </tr>\n",
       "    <tr>\n",
       "      <th>9</th>\n",
       "      <td>4</td>\n",
       "      <td>Utah Jazz</td>\n",
       "    </tr>\n",
       "    <tr>\n",
       "      <th>10</th>\n",
       "      <td>4</td>\n",
       "      <td>Chicago Bulls</td>\n",
       "    </tr>\n",
       "    <tr>\n",
       "      <th>11</th>\n",
       "      <td>4</td>\n",
       "      <td>Dallas Mavericks</td>\n",
       "    </tr>\n",
       "    <tr>\n",
       "      <th>12</th>\n",
       "      <td>4</td>\n",
       "      <td>Philadelphia 76ers</td>\n",
       "    </tr>\n",
       "    <tr>\n",
       "      <th>13</th>\n",
       "      <td>4</td>\n",
       "      <td>Sacramento Kings</td>\n",
       "    </tr>\n",
       "    <tr>\n",
       "      <th>14</th>\n",
       "      <td>4</td>\n",
       "      <td>Milwaukee Bucks</td>\n",
       "    </tr>\n",
       "    <tr>\n",
       "      <th>15</th>\n",
       "      <td>4</td>\n",
       "      <td>Houston Rockets</td>\n",
       "    </tr>\n",
       "    <tr>\n",
       "      <th>16</th>\n",
       "      <td>4</td>\n",
       "      <td>Golden State Warriors</td>\n",
       "    </tr>\n",
       "    <tr>\n",
       "      <th>17</th>\n",
       "      <td>4</td>\n",
       "      <td>Atlanta Hawks</td>\n",
       "    </tr>\n",
       "    <tr>\n",
       "      <th>18</th>\n",
       "      <td>4</td>\n",
       "      <td>Houston Rockets</td>\n",
       "    </tr>\n",
       "    <tr>\n",
       "      <th>19</th>\n",
       "      <td>4</td>\n",
       "      <td>Toronto Raptors</td>\n",
       "    </tr>\n",
       "  </tbody>\n",
       "</table>\n",
       "</div>"
      ],
      "text/plain": [
       "    season              home_team\n",
       "0        4         Boston Celtics\n",
       "1        4         Boston Celtics\n",
       "2        4     Philadelphia 76ers\n",
       "3        4     Washington Wizards\n",
       "4        4       Sacramento Kings\n",
       "5        4        Detroit Pistons\n",
       "6        4   New Orleans Pelicans\n",
       "7        4         Indiana Pacers\n",
       "8        4          Atlanta Hawks\n",
       "9        4              Utah Jazz\n",
       "10       4          Chicago Bulls\n",
       "11       4       Dallas Mavericks\n",
       "12       4     Philadelphia 76ers\n",
       "13       4       Sacramento Kings\n",
       "14       4        Milwaukee Bucks\n",
       "15       4        Houston Rockets\n",
       "16       4  Golden State Warriors\n",
       "17       4          Atlanta Hawks\n",
       "18       4        Houston Rockets\n",
       "19       4        Toronto Raptors"
      ]
     },
     "execution_count": 16,
     "metadata": {},
     "output_type": "execute_result"
    }
   ],
   "source": [
    "# creo dataframe\n",
    "df = pd.DataFrame.from_records(records)\n",
    "df.columns = ['season', 'home_team']\n",
    "df.head(20)"
   ]
  },
  {
   "cell_type": "code",
   "execution_count": null,
   "metadata": {},
   "outputs": [],
   "source": []
  },
  {
   "cell_type": "markdown",
   "metadata": {},
   "source": [
    "## Ejercicio 3: El efecto de jugar de local\n",
    "+ Genere una columna en el pd.DataFrame que identifique si el equipo que jugó de local ganó (1) o no (0).\n",
    "+ Repita el procedimiento para identificar si el equipo que jugó de visitante ganó (1) o no (0).\n",
    "+ Reporte cuáles son los primeros y últimos 5 equipos en cuanto a desempeño por jugar local.\n",
    "+ Reporte cuáles son los primeros y últimos 5 equipos en cuanto a desempeño por jugar de visita.\n"
   ]
  },
  {
   "cell_type": "markdown",
   "metadata": {},
   "source": [
    "## Ejercicio 4: Obteniendo el porcentaje de ganar local y de visita\n",
    "+ Genere un nuevo objeto que guarde el porcentaje de juegos ganados como local por equipo.\n",
    "+ Repita lo mismo para los juegos donde el equipo fue visitante.\n",
    "+ ¿Qué equipos tienen iguales chances de ganar como visitante o local?\n"
   ]
  }
 ],
 "metadata": {
  "kernelspec": {
   "display_name": "Python 3",
   "language": "python",
   "name": "python3"
  },
  "language_info": {
   "codemirror_mode": {
    "name": "ipython",
    "version": 3
   },
   "file_extension": ".py",
   "mimetype": "text/x-python",
   "name": "python",
   "nbconvert_exporter": "python",
   "pygments_lexer": "ipython3",
   "version": "3.7.3"
  }
 },
 "nbformat": 4,
 "nbformat_minor": 2
}
