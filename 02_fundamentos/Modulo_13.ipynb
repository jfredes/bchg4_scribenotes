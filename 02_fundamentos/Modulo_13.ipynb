{
 "cells": [
  {
   "cell_type": "code",
   "execution_count": 1,
   "metadata": {},
   "outputs": [],
   "source": [
    "import pandas as pd\n",
    "import numpy as np\n",
    "import matplotlib.pyplot as plt\n",
    "import seaborn as sns\n",
    "import factor_analyzer as factor"
   ]
  },
  {
   "cell_type": "markdown",
   "metadata": {},
   "source": [
    "## Análisis Factorial con `factor_analizer`\n",
    "\n",
    "Este es el código de la lectura de Dimensionalidad adaptado para que funcione con la librería `factor_analizer` versión 0.3.1\n",
    "\n",
    "Con los cambios en la sintaxis esta librería es totalmente compatible con `scikit-learn`."
   ]
  },
  {
   "cell_type": "code",
   "execution_count": 2,
   "metadata": {},
   "outputs": [
    {
     "data": {
      "text/html": [
       "<div>\n",
       "<style scoped>\n",
       "    .dataframe tbody tr th:only-of-type {\n",
       "        vertical-align: middle;\n",
       "    }\n",
       "\n",
       "    .dataframe tbody tr th {\n",
       "        vertical-align: top;\n",
       "    }\n",
       "\n",
       "    .dataframe thead th {\n",
       "        text-align: right;\n",
       "    }\n",
       "</style>\n",
       "<table border=\"1\" class=\"dataframe\">\n",
       "  <thead>\n",
       "    <tr style=\"text-align: right;\">\n",
       "      <th></th>\n",
       "      <th>corr</th>\n",
       "      <th>filtro</th>\n",
       "      <th>psu</th>\n",
       "      <th>region</th>\n",
       "      <th>p1_1</th>\n",
       "      <th>p1_2</th>\n",
       "      <th>p1_3</th>\n",
       "      <th>p2</th>\n",
       "      <th>p3</th>\n",
       "      <th>p4</th>\n",
       "      <th>...</th>\n",
       "      <th>de14_b</th>\n",
       "      <th>de14_c</th>\n",
       "      <th>de14_d</th>\n",
       "      <th>de14_e</th>\n",
       "      <th>de14_f</th>\n",
       "      <th>de15</th>\n",
       "      <th>de16</th>\n",
       "      <th>de17</th>\n",
       "      <th>b5</th>\n",
       "      <th>pond</th>\n",
       "    </tr>\n",
       "  </thead>\n",
       "  <tbody>\n",
       "    <tr>\n",
       "      <th>0</th>\n",
       "      <td>1</td>\n",
       "      <td>937</td>\n",
       "      <td>150</td>\n",
       "      <td>13</td>\n",
       "      <td>9</td>\n",
       "      <td>3</td>\n",
       "      <td>6</td>\n",
       "      <td>1</td>\n",
       "      <td>3</td>\n",
       "      <td>2</td>\n",
       "      <td>...</td>\n",
       "      <td>2</td>\n",
       "      <td>2</td>\n",
       "      <td>2</td>\n",
       "      <td>2</td>\n",
       "      <td>2</td>\n",
       "      <td>6</td>\n",
       "      <td>4</td>\n",
       "      <td>4</td>\n",
       "      <td>1</td>\n",
       "      <td>0.782461</td>\n",
       "    </tr>\n",
       "    <tr>\n",
       "      <th>1</th>\n",
       "      <td>2</td>\n",
       "      <td>938</td>\n",
       "      <td>150</td>\n",
       "      <td>13</td>\n",
       "      <td>7</td>\n",
       "      <td>6</td>\n",
       "      <td>3</td>\n",
       "      <td>2</td>\n",
       "      <td>2</td>\n",
       "      <td>1</td>\n",
       "      <td>...</td>\n",
       "      <td>2</td>\n",
       "      <td>2</td>\n",
       "      <td>1</td>\n",
       "      <td>2</td>\n",
       "      <td>2</td>\n",
       "      <td>8</td>\n",
       "      <td>4</td>\n",
       "      <td>4</td>\n",
       "      <td>1</td>\n",
       "      <td>1.157864</td>\n",
       "    </tr>\n",
       "    <tr>\n",
       "      <th>2</th>\n",
       "      <td>3</td>\n",
       "      <td>939</td>\n",
       "      <td>150</td>\n",
       "      <td>13</td>\n",
       "      <td>3</td>\n",
       "      <td>6</td>\n",
       "      <td>9</td>\n",
       "      <td>2</td>\n",
       "      <td>2</td>\n",
       "      <td>3</td>\n",
       "      <td>...</td>\n",
       "      <td>2</td>\n",
       "      <td>2</td>\n",
       "      <td>2</td>\n",
       "      <td>2</td>\n",
       "      <td>2</td>\n",
       "      <td>9</td>\n",
       "      <td>6</td>\n",
       "      <td>4</td>\n",
       "      <td>1</td>\n",
       "      <td>1.204037</td>\n",
       "    </tr>\n",
       "    <tr>\n",
       "      <th>3</th>\n",
       "      <td>4</td>\n",
       "      <td>1096</td>\n",
       "      <td>182</td>\n",
       "      <td>13</td>\n",
       "      <td>3</td>\n",
       "      <td>4</td>\n",
       "      <td>11</td>\n",
       "      <td>3</td>\n",
       "      <td>2</td>\n",
       "      <td>2</td>\n",
       "      <td>...</td>\n",
       "      <td>2</td>\n",
       "      <td>2</td>\n",
       "      <td>2</td>\n",
       "      <td>2</td>\n",
       "      <td>2</td>\n",
       "      <td>6</td>\n",
       "      <td>3</td>\n",
       "      <td>3</td>\n",
       "      <td>1</td>\n",
       "      <td>1.025330</td>\n",
       "    </tr>\n",
       "    <tr>\n",
       "      <th>4</th>\n",
       "      <td>5</td>\n",
       "      <td>1097</td>\n",
       "      <td>182</td>\n",
       "      <td>13</td>\n",
       "      <td>6</td>\n",
       "      <td>11</td>\n",
       "      <td>7</td>\n",
       "      <td>3</td>\n",
       "      <td>1</td>\n",
       "      <td>1</td>\n",
       "      <td>...</td>\n",
       "      <td>2</td>\n",
       "      <td>2</td>\n",
       "      <td>2</td>\n",
       "      <td>2</td>\n",
       "      <td>2</td>\n",
       "      <td>6</td>\n",
       "      <td>3</td>\n",
       "      <td>3</td>\n",
       "      <td>1</td>\n",
       "      <td>1.204037</td>\n",
       "    </tr>\n",
       "  </tbody>\n",
       "</table>\n",
       "<p>5 rows × 188 columns</p>\n",
       "</div>"
      ],
      "text/plain": [
       "   corr  filtro  psu  region  p1_1  p1_2  p1_3  p2  p3  p4  ...  de14_b  \\\n",
       "0     1     937  150      13     9     3     6   1   3   2  ...       2   \n",
       "1     2     938  150      13     7     6     3   2   2   1  ...       2   \n",
       "2     3     939  150      13     3     6     9   2   2   3  ...       2   \n",
       "3     4    1096  182      13     3     4    11   3   2   2  ...       2   \n",
       "4     5    1097  182      13     6    11     7   3   1   1  ...       2   \n",
       "\n",
       "   de14_c  de14_d  de14_e  de14_f  de15  de16  de17  b5      pond  \n",
       "0       2       2       2       2     6     4     4   1  0.782461  \n",
       "1       2       1       2       2     8     4     4   1  1.157864  \n",
       "2       2       2       2       2     9     6     4   1  1.204037  \n",
       "3       2       2       2       2     6     3     3   1  1.025330  \n",
       "4       2       2       2       2     6     3     3   1  1.204037  \n",
       "\n",
       "[5 rows x 188 columns]"
      ]
     },
     "execution_count": 2,
     "metadata": {},
     "output_type": "execute_result"
    }
   ],
   "source": [
    "df = pd.read_csv('data/cep45.csv')\n",
    "df.head()"
   ]
  },
  {
   "cell_type": "code",
   "execution_count": 3,
   "metadata": {},
   "outputs": [],
   "source": [
    "# filtamos las columnas\n",
    "trust_df = df.filter(regex=\"p17_*\")\n",
    "trust_df = trust_df.rename(columns={'p17_a': 'I.Catolica', 'p17_b': 'I.Evangelica', 'p17_c': 'FFAA', 'p17_d':\n",
    "'Justicia',\n",
    "'p17_e': 'Prensa', 'p17_f': 'Television', 'p17_g':'Sindicatos', 'p17_h':'Carabineros',\n",
    "'p17_i': 'Gobierno', 'p17_j': 'PartidosPol', 'p17_k': 'Congreso', 'p17_l':'Empresas',\n",
    "'p17_m':'Universidades', 'p17_n':'Radio'})"
   ]
  },
  {
   "cell_type": "code",
   "execution_count": 4,
   "metadata": {},
   "outputs": [
    {
     "data": {
      "text/plain": [
       "(6644.83570591191, 0.0)"
      ]
     },
     "execution_count": 4,
     "metadata": {},
     "output_type": "execute_result"
    }
   ],
   "source": [
    "import factor_analyzer.factor_analyzer as fact\n",
    "fact.calculate_bartlett_sphericity(trust_df)"
   ]
  },
  {
   "cell_type": "code",
   "execution_count": 5,
   "metadata": {},
   "outputs": [
    {
     "data": {
      "text/plain": [
       "(array([0.93853431, 0.92717654, 0.93176781, 0.95285454, 0.91971575,\n",
       "        0.88552639, 0.93671982, 0.91120486, 0.93981619, 0.91291311,\n",
       "        0.91928052, 0.94234885, 0.95178434, 0.93221226]), 0.927465719411128)"
      ]
     },
     "execution_count": 5,
     "metadata": {},
     "output_type": "execute_result"
    }
   ],
   "source": [
    "fact.calculate_kmo(trust_df)"
   ]
  },
  {
   "cell_type": "code",
   "execution_count": 6,
   "metadata": {},
   "outputs": [
    {
     "data": {
      "image/png": "[encoded data removed]",
      "text/plain": [
       "<Figure size 432x288 with 1 Axes>"
      ]
     },
     "metadata": {
      "needs_background": "light"
     },
     "output_type": "display_data"
    }
   ],
   "source": [
    "factorize = fact.FactorAnalyzer(n_factors=2, method='principal')\n",
    "factorize.fit(trust_df)\n",
    "factor_screeplot = factorize.get_eigenvalues()[0]\n",
    "plt.plot(np.arange(len(factor_screeplot)), factor_screeplot, 'o-', color='tomato')\n",
    "plt.xlabel('Número de Factor')\n",
    "plt.ylabel('Valores Propios')\n",
    "plt.axhline(1)\n",
    "plt.title(\"Scree plot\");"
   ]
  },
  {
   "cell_type": "code",
   "execution_count": 7,
   "metadata": {},
   "outputs": [
    {
     "data": {
      "text/html": [
       "<div>\n",
       "<style scoped>\n",
       "    .dataframe tbody tr th:only-of-type {\n",
       "        vertical-align: middle;\n",
       "    }\n",
       "\n",
       "    .dataframe tbody tr th {\n",
       "        vertical-align: top;\n",
       "    }\n",
       "\n",
       "    .dataframe thead th {\n",
       "        text-align: right;\n",
       "    }\n",
       "</style>\n",
       "<table border=\"1\" class=\"dataframe\">\n",
       "  <thead>\n",
       "    <tr style=\"text-align: right;\">\n",
       "      <th></th>\n",
       "      <th>Factor1</th>\n",
       "      <th>Factor2</th>\n",
       "    </tr>\n",
       "  </thead>\n",
       "  <tbody>\n",
       "    <tr>\n",
       "      <th>I.Catolica</th>\n",
       "      <td>-0.112771</td>\n",
       "      <td>0.719162</td>\n",
       "    </tr>\n",
       "    <tr>\n",
       "      <th>I.Evangelica</th>\n",
       "      <td>-0.021686</td>\n",
       "      <td>0.474913</td>\n",
       "    </tr>\n",
       "    <tr>\n",
       "      <th>FFAA</th>\n",
       "      <td>0.370507</td>\n",
       "      <td>0.368499</td>\n",
       "    </tr>\n",
       "    <tr>\n",
       "      <th>Justicia</th>\n",
       "      <td>0.534044</td>\n",
       "      <td>0.181139</td>\n",
       "    </tr>\n",
       "    <tr>\n",
       "      <th>Prensa</th>\n",
       "      <td>0.325933</td>\n",
       "      <td>0.418654</td>\n",
       "    </tr>\n",
       "    <tr>\n",
       "      <th>Television</th>\n",
       "      <td>-0.057088</td>\n",
       "      <td>0.803767</td>\n",
       "    </tr>\n",
       "    <tr>\n",
       "      <th>Sindicatos</th>\n",
       "      <td>0.804909</td>\n",
       "      <td>-0.236597</td>\n",
       "    </tr>\n",
       "    <tr>\n",
       "      <th>Carabineros</th>\n",
       "      <td>-0.056070</td>\n",
       "      <td>0.752123</td>\n",
       "    </tr>\n",
       "    <tr>\n",
       "      <th>Gobierno</th>\n",
       "      <td>0.474229</td>\n",
       "      <td>0.317161</td>\n",
       "    </tr>\n",
       "    <tr>\n",
       "      <th>PartidosPol</th>\n",
       "      <td>0.790016</td>\n",
       "      <td>-0.030551</td>\n",
       "    </tr>\n",
       "    <tr>\n",
       "      <th>Congreso</th>\n",
       "      <td>0.878055</td>\n",
       "      <td>-0.139352</td>\n",
       "    </tr>\n",
       "    <tr>\n",
       "      <th>Empresas</th>\n",
       "      <td>0.681060</td>\n",
       "      <td>0.035899</td>\n",
       "    </tr>\n",
       "    <tr>\n",
       "      <th>Universidades</th>\n",
       "      <td>0.531042</td>\n",
       "      <td>0.116613</td>\n",
       "    </tr>\n",
       "    <tr>\n",
       "      <th>Radio</th>\n",
       "      <td>-0.003767</td>\n",
       "      <td>0.693417</td>\n",
       "    </tr>\n",
       "  </tbody>\n",
       "</table>\n",
       "</div>"
      ],
      "text/plain": [
       "                Factor1   Factor2\n",
       "I.Catolica    -0.112771  0.719162\n",
       "I.Evangelica  -0.021686  0.474913\n",
       "FFAA           0.370507  0.368499\n",
       "Justicia       0.534044  0.181139\n",
       "Prensa         0.325933  0.418654\n",
       "Television    -0.057088  0.803767\n",
       "Sindicatos     0.804909 -0.236597\n",
       "Carabineros   -0.056070  0.752123\n",
       "Gobierno       0.474229  0.317161\n",
       "PartidosPol    0.790016 -0.030551\n",
       "Congreso       0.878055 -0.139352\n",
       "Empresas       0.681060  0.035899\n",
       "Universidades  0.531042  0.116613\n",
       "Radio         -0.003767  0.693417"
      ]
     },
     "execution_count": 7,
     "metadata": {},
     "output_type": "execute_result"
    }
   ],
   "source": [
    "factor_loadings = pd.DataFrame(factorize.loadings_)\n",
    "factor_loadings.set_index(trust_df.columns, inplace=True)\n",
    "factor_loadings.columns = ['Factor1', 'Factor2']\n",
    "factor_loadings"
   ]
  },
  {
   "cell_type": "code",
   "execution_count": 8,
   "metadata": {},
   "outputs": [
    {
     "data": {
      "text/html": [
       "<div>\n",
       "<style scoped>\n",
       "    .dataframe tbody tr th:only-of-type {\n",
       "        vertical-align: middle;\n",
       "    }\n",
       "\n",
       "    .dataframe tbody tr th {\n",
       "        vertical-align: top;\n",
       "    }\n",
       "\n",
       "    .dataframe thead th {\n",
       "        text-align: right;\n",
       "    }\n",
       "</style>\n",
       "<table border=\"1\" class=\"dataframe\">\n",
       "  <thead>\n",
       "    <tr style=\"text-align: right;\">\n",
       "      <th></th>\n",
       "      <th>Factor1</th>\n",
       "      <th>Factor2</th>\n",
       "    </tr>\n",
       "  </thead>\n",
       "  <tbody>\n",
       "    <tr>\n",
       "      <th>I.Catolica</th>\n",
       "      <td></td>\n",
       "      <td>0.72</td>\n",
       "    </tr>\n",
       "    <tr>\n",
       "      <th>I.Evangelica</th>\n",
       "      <td></td>\n",
       "      <td>0.47</td>\n",
       "    </tr>\n",
       "    <tr>\n",
       "      <th>FFAA</th>\n",
       "      <td></td>\n",
       "      <td></td>\n",
       "    </tr>\n",
       "    <tr>\n",
       "      <th>Justicia</th>\n",
       "      <td>0.53</td>\n",
       "      <td></td>\n",
       "    </tr>\n",
       "    <tr>\n",
       "      <th>Prensa</th>\n",
       "      <td></td>\n",
       "      <td>0.42</td>\n",
       "    </tr>\n",
       "    <tr>\n",
       "      <th>Television</th>\n",
       "      <td></td>\n",
       "      <td>0.8</td>\n",
       "    </tr>\n",
       "    <tr>\n",
       "      <th>Sindicatos</th>\n",
       "      <td>0.8</td>\n",
       "      <td></td>\n",
       "    </tr>\n",
       "    <tr>\n",
       "      <th>Carabineros</th>\n",
       "      <td></td>\n",
       "      <td>0.75</td>\n",
       "    </tr>\n",
       "    <tr>\n",
       "      <th>Gobierno</th>\n",
       "      <td>0.47</td>\n",
       "      <td></td>\n",
       "    </tr>\n",
       "    <tr>\n",
       "      <th>PartidosPol</th>\n",
       "      <td>0.79</td>\n",
       "      <td></td>\n",
       "    </tr>\n",
       "    <tr>\n",
       "      <th>Congreso</th>\n",
       "      <td>0.88</td>\n",
       "      <td></td>\n",
       "    </tr>\n",
       "    <tr>\n",
       "      <th>Empresas</th>\n",
       "      <td>0.68</td>\n",
       "      <td></td>\n",
       "    </tr>\n",
       "    <tr>\n",
       "      <th>Universidades</th>\n",
       "      <td>0.53</td>\n",
       "      <td></td>\n",
       "    </tr>\n",
       "    <tr>\n",
       "      <th>Radio</th>\n",
       "      <td></td>\n",
       "      <td>0.69</td>\n",
       "    </tr>\n",
       "  </tbody>\n",
       "</table>\n",
       "</div>"
      ],
      "text/plain": [
       "              Factor1 Factor2\n",
       "I.Catolica               0.72\n",
       "I.Evangelica             0.47\n",
       "FFAA                         \n",
       "Justicia         0.53        \n",
       "Prensa                   0.42\n",
       "Television                0.8\n",
       "Sindicatos        0.8        \n",
       "Carabineros              0.75\n",
       "Gobierno         0.47        \n",
       "PartidosPol      0.79        \n",
       "Congreso         0.88        \n",
       "Empresas         0.68        \n",
       "Universidades    0.53        \n",
       "Radio                    0.69"
      ]
     },
     "execution_count": 8,
     "metadata": {},
     "output_type": "execute_result"
    }
   ],
   "source": [
    "factor_loadings.applymap(lambda x: np.where(x < .4, ' ', round(x, 2)))"
   ]
  },
  {
   "cell_type": "code",
   "execution_count": 9,
   "metadata": {},
   "outputs": [
    {
     "data": {
      "text/plain": [
       "Text(0, 0.5, 'Factor 2: 0.21')"
      ]
     },
     "execution_count": 9,
     "metadata": {},
     "output_type": "execute_result"
    },
    {
     "data": {
      "image/png": "[encoded data removed]",
      "text/plain": [
       "<Figure size 432x288 with 1 Axes>"
      ]
     },
     "metadata": {
      "needs_background": "light"
     },
     "output_type": "display_data"
    }
   ],
   "source": [
    "# guardemos la varianza explicada por cada dimensión\n",
    "factor_var = factorize.get_factor_variance()\n",
    "# cruzamos ambos factores\n",
    "plt.plot(factor_loadings.Factor1, factor_loadings.Factor2,'o')\n",
    "plt.xlim((-.2,1)) # definimos límites\n",
    "plt.ylim((-.4, 1))\n",
    "# Para cada elemento en los factores\n",
    "for i, txt in enumerate(factor_loadings.index):\n",
    "    # anotemos el nombre de la variable\n",
    "    plt.annotate(txt, (factor_loadings['Factor1'][i],\n",
    "    factor_loadings['Factor2'][i]))\n",
    "# Grafiquemos la media de ambos factores\n",
    "plt.axvline(factor_loadings['Factor1'].mean())\n",
    "plt.axhline(factor_loadings['Factor2'].mean())\n",
    "# Reportemos la varianza de cada dimensión\n",
    "plt.xlabel('Factor 1: {}'.format(round(factor_var[0][1], 2)))\n",
    "plt.ylabel('Factor 2: {}'.format(round(factor_var[1][1], 2)))"
   ]
  },
  {
   "cell_type": "code",
   "execution_count": 10,
   "metadata": {},
   "outputs": [
    {
     "data": {
      "text/html": [
       "<div>\n",
       "<style scoped>\n",
       "    .dataframe tbody tr th:only-of-type {\n",
       "        vertical-align: middle;\n",
       "    }\n",
       "\n",
       "    .dataframe tbody tr th {\n",
       "        vertical-align: top;\n",
       "    }\n",
       "\n",
       "    .dataframe thead th {\n",
       "        text-align: right;\n",
       "    }\n",
       "</style>\n",
       "<table border=\"1\" class=\"dataframe\">\n",
       "  <thead>\n",
       "    <tr style=\"text-align: right;\">\n",
       "      <th></th>\n",
       "      <th>Factor1</th>\n",
       "      <th>Factor2</th>\n",
       "    </tr>\n",
       "  </thead>\n",
       "  <tbody>\n",
       "    <tr>\n",
       "      <th>SS loadings (Variance)</th>\n",
       "      <td>3.562042</td>\n",
       "      <td>2.970976</td>\n",
       "    </tr>\n",
       "    <tr>\n",
       "      <th>Proportional variance</th>\n",
       "      <td>0.254432</td>\n",
       "      <td>0.212213</td>\n",
       "    </tr>\n",
       "    <tr>\n",
       "      <th>Cumulative variance</th>\n",
       "      <td>0.254432</td>\n",
       "      <td>0.466644</td>\n",
       "    </tr>\n",
       "  </tbody>\n",
       "</table>\n",
       "</div>"
      ],
      "text/plain": [
       "                         Factor1   Factor2\n",
       "SS loadings (Variance)  3.562042  2.970976\n",
       "Proportional variance   0.254432  0.212213\n",
       "Cumulative variance     0.254432  0.466644"
      ]
     },
     "execution_count": 10,
     "metadata": {},
     "output_type": "execute_result"
    }
   ],
   "source": [
    "factor_var = pd.DataFrame(np.asarray(factorize.get_factor_variance()))\n",
    "factor_var.index = ['SS loadings (Variance)', 'Proportional variance', 'Cumulative variance']\n",
    "factor_var.columns = ['Factor1', 'Factor2']\n",
    "factor_var"
   ]
  },
  {
   "cell_type": "code",
   "execution_count": 11,
   "metadata": {},
   "outputs": [
    {
     "data": {
      "text/plain": [
       "<matplotlib.legend.Legend at 0x7f8c8dd64f60>"
      ]
     },
     "execution_count": 11,
     "metadata": {},
     "output_type": "execute_result"
    },
    {
     "data": {
      "image/png": "[encoded data removed]",
      "text/plain": [
       "<Figure size 432x288 with 1 Axes>"
      ]
     },
     "metadata": {
      "needs_background": "light"
     },
     "output_type": "display_data"
    }
   ],
   "source": [
    "extract_factor_scores = factorize.transform(trust_df)\n",
    "sns.distplot(extract_factor_scores[:, 0], label=\"Institucionalistas\")\n",
    "sns.distplot(extract_factor_scores[:, 1], label=\"Cotidianos\")\n",
    "plt.legend()"
   ]
  }
 ],
 "metadata": {
  "kernelspec": {
   "display_name": "Python 3",
   "language": "python",
   "name": "python3"
  },
  "language_info": {
   "codemirror_mode": {
    "name": "ipython",
    "version": 3
   },
   "file_extension": ".py",
   "mimetype": "text/x-python",
   "name": "python",
   "nbconvert_exporter": "python",
   "pygments_lexer": "ipython3",
   "version": "3.7.3"
  }
 },
 "nbformat": 4,
 "nbformat_minor": 2
}
