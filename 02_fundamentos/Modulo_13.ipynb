{
 "cells": [
  {
   "cell_type": "code",
   "execution_count": null,
   "metadata": {},
   "outputs": [],
   "source": [
    "import pandas as pd\n",
    "import numpy as np\n",
    "import matplotlib.pyplot as plt\n",
    "import seaborn as sns\n",
    "import factor_analyzer as factor"
   ]
  },
  {
   "cell_type": "markdown",
   "metadata": {},
   "source": [
    "## Análisis Factorial con `factor_analizer`\n",
    "\n",
    "Este es el código de la lectura de Dimensionalidad adaptado para que funcione con la librería `factor_analizer` versión 0.3.1\n",
    "\n",
    "Con los cambios en la sintaxis esta librería es totalmente compatible con `scikit-learn`."
   ]
  },
  {
   "cell_type": "code",
   "execution_count": null,
   "metadata": {},
   "outputs": [],
   "source": [
    "df = pd.read_csv('cep45.csv')\n",
    "df.head()"
   ]
  },
  {
   "cell_type": "code",
   "execution_count": null,
   "metadata": {},
   "outputs": [],
   "source": [
    "# filtamos las columnas\n",
    "trust_df = df.filter(regex=\"p17_*\")\n",
    "trust_df = trust_df.rename(columns={'p17_a': 'I.Catolica', 'p17_b': 'I.Evangelica', 'p17_c': 'FFAA', 'p17_d':\n",
    "'Justicia',\n",
    "'p17_e': 'Prensa', 'p17_f': 'Television', 'p17_g':'Sindicatos', 'p17_h':'Carabineros',\n",
    "'p17_i': 'Gobierno', 'p17_j': 'PartidosPol', 'p17_k': 'Congreso', 'p17_l':'Empresas',\n",
    "'p17_m':'Universidades', 'p17_n':'Radio'})"
   ]
  },
  {
   "cell_type": "code",
   "execution_count": null,
   "metadata": {},
   "outputs": [],
   "source": [
    "import factor_analyzer.factor_analyzer as fact\n",
    "fact.calculate_bartlett_sphericity(trust_df)"
   ]
  },
  {
   "cell_type": "code",
   "execution_count": null,
   "metadata": {},
   "outputs": [],
   "source": [
    "fact.calculate_kmo(trust_df)"
   ]
  },
  {
   "cell_type": "code",
   "execution_count": null,
   "metadata": {},
   "outputs": [],
   "source": [
    "factorize = fact.FactorAnalyzer(n_factors=2, method='principal')\n",
    "factorize.fit(trust_df)\n",
    "factor_screeplot = factorize.get_eigenvalues()[0]\n",
    "plt.plot(np.arange(len(factor_screeplot)), factor_screeplot, 'o-', color='tomato')\n",
    "plt.xlabel('Número de Factor')\n",
    "plt.ylabel('Valores Propios')\n",
    "plt.axhline(1)\n",
    "plt.title(\"Scree plot\");"
   ]
  },
  {
   "cell_type": "code",
   "execution_count": null,
   "metadata": {},
   "outputs": [],
   "source": [
    "factor_loadings = pd.DataFrame(factorize.loadings_)\n",
    "factor_loadings.set_index(trust_df.columns, inplace=True)\n",
    "factor_loadings.columns = ['Factor1', 'Factor2']\n",
    "factor_loadings"
   ]
  },
  {
   "cell_type": "code",
   "execution_count": null,
   "metadata": {},
   "outputs": [],
   "source": [
    "factor_loadings.applymap(lambda x: np.where(x < .4, ' ', round(x, 2)))"
   ]
  },
  {
   "cell_type": "code",
   "execution_count": null,
   "metadata": {},
   "outputs": [],
   "source": [
    "# guardemos la varianza explicada por cada dimensión\n",
    "factor_var = factorize.get_factor_variance()\n",
    "# cruzamos ambos factores\n",
    "plt.plot(factor_loadings.Factor1, factor_loadings.Factor2,'o')\n",
    "plt.xlim((-.2,1)) # definimos límites\n",
    "plt.ylim((-.4, 1))\n",
    "# Para cada elemento en los factores\n",
    "for i, txt in enumerate(factor_loadings.index):\n",
    "    # anotemos el nombre de la variable\n",
    "    plt.annotate(txt, (factor_loadings['Factor1'][i],\n",
    "    factor_loadings['Factor2'][i]))\n",
    "# Grafiquemos la media de ambos factores\n",
    "plt.axvline(factor_loadings['Factor1'].mean())\n",
    "plt.axhline(factor_loadings['Factor2'].mean())\n",
    "# Reportemos la varianza de cada dimensión\n",
    "plt.xlabel('Factor 1: {}'.format(round(factor_var[0][1], 2)))\n",
    "plt.ylabel('Factor 2: {}'.format(round(factor_var[1][1], 2)))"
   ]
  },
  {
   "cell_type": "code",
   "execution_count": null,
   "metadata": {},
   "outputs": [],
   "source": [
    "factor_var = pd.DataFrame(np.asarray(factorize.get_factor_variance()))\n",
    "factor_var.index = ['SS loadings (Variance)', 'Proportional variance', 'Cumulative variance']\n",
    "factor_var.columns = ['Factor1', 'Factor2']\n",
    "factor_var"
   ]
  },
  {
   "cell_type": "code",
   "execution_count": null,
   "metadata": {},
   "outputs": [],
   "source": [
    "extract_factor_scores = factorize.transform(trust_df)\n",
    "sns.distplot(extract_factor_scores[:, 0], label=\"Institucionalistas\")\n",
    "sns.distplot(extract_factor_scores[:, 1], label=\"Cotidianos\")\n",
    "plt.legend()"
   ]
  }
 ],
 "metadata": {
  "kernelspec": {
   "display_name": "Python 3",
   "language": "python",
   "name": "python3"
  },
  "language_info": {
   "codemirror_mode": {
    "name": "ipython",
    "version": 3
   },
   "file_extension": ".py",
   "mimetype": "text/x-python",
   "name": "python",
   "nbconvert_exporter": "python",
   "pygments_lexer": "ipython3",
   "version": "3.7.3"
  }
 },
 "nbformat": 4,
 "nbformat_minor": 2
}
