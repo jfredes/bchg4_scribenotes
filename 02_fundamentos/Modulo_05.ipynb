{
 "cells": [
  {
   "cell_type": "markdown",
   "metadata": {},
   "source": [
    "# TIPS DESAFIO DE HOY\n",
    "\n",
    "## Desafio 1"
   ]
  },
  {
   "cell_type": "code",
   "execution_count": 1,
   "metadata": {},
   "outputs": [],
   "source": [
    "# CONVERSION DE VARIABLE:\n",
    "\n",
    "valor_numerico = [1, 2, 3, 4, 5, 6, 7, 8, 9, 10]\n",
    "label = ['EastEurope', 'LatAm', 'NorthAfrica','SubSaharian',\n",
    "         'WesternDem', 'EastAsia','SouthEastAsia','SouthAsia',\n",
    "         'Pacific', 'Caribbean' ]\n",
    "# tip, usen pd.Series.replace()"
   ]
  },
  {
   "cell_type": "code",
   "execution_count": null,
   "metadata": {},
   "outputs": [],
   "source": [
    "# ELEGIR 50% DE LAS MUESTRAS\n",
    "seed=555\n",
    "df.sample(random_state=seed)\n"
   ]
  },
  {
   "cell_type": "code",
   "execution_count": null,
   "metadata": {},
   "outputs": [],
   "source": []
  }
 ],
 "metadata": {
  "kernelspec": {
   "display_name": "Python 3",
   "language": "python",
   "name": "python3"
  },
  "language_info": {
   "codemirror_mode": {
    "name": "ipython",
    "version": 3
   },
   "file_extension": ".py",
   "mimetype": "text/x-python",
   "name": "python",
   "nbconvert_exporter": "python",
   "pygments_lexer": "ipython3",
   "version": "3.7.3"
  }
 },
 "nbformat": 4,
 "nbformat_minor": 2
}
