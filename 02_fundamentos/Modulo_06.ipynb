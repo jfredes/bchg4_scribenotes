{
 "cells": [
  {
   "cell_type": "markdown",
   "metadata": {},
   "source": [
    "# B. TIPS\n",
    "\n",
    "## 1. Importe un csv desde internet\n",
    "Utilice la base de datos de un compañero creada en la sesión pasada.\n"
   ]
  },
  {
   "cell_type": "code",
   "execution_count": 1,
   "metadata": {},
   "outputs": [],
   "source": [
    "# ACÁ SOLO COMPARTANSE EL ARCHIVO, LA IDEA ES QUE TRABAJEN CON EL CSV DE UN COMPAÑERO."
   ]
  },
  {
   "cell_type": "markdown",
   "metadata": {},
   "source": [
    "## 2. Importe su conjunto de funciones\n",
    "* Genere un archivo ancilliary_funcs.py para guardar las funciones creadas en la sesión pasada e impórtelo.\n",
    "* Utilice las funciones creadas para inspeccionar la cantidad de casos perdidos de la muestra de su compañero.\n"
   ]
  },
  {
   "cell_type": "code",
   "execution_count": 2,
   "metadata": {},
   "outputs": [],
   "source": [
    "# Peguen las codigos de la sesión pasada en un archivo e impórtenlo como módulo.\n",
    "\n",
    "# PUEDEN COMPARTIR ESTE ARCHIVO DENTRO DEL GRUPO\n",
    "\n",
    "# Impriman la cantidad de datos perdidos en la muestra analizada"
   ]
  },
  {
   "cell_type": "markdown",
   "metadata": {},
   "source": [
    "## 3. Estime el puntaje Z\n",
    "Estime el puntaze Z para las 10 primeras y últimas observaciones de las variables con una menor cantidad de datos perdidos\n"
   ]
  },
  {
   "cell_type": "code",
   "execution_count": null,
   "metadata": {},
   "outputs": [],
   "source": [
    "# 1. Creen columna con puntaje z\n",
    "\n",
    "my_df['my_var_puntaje_z'] = my_df.my_var - .....\n",
    "\n",
    "# 2. Ordenen los valores\n",
    "\n",
    "my_sorted_df = my_df.sort_values( ....\n",
    "                                 \n",
    "# 3. Eliminen valores perdidos con drop na\n",
    "                                 \n",
    "my_sorted_no_na_df = my_sorted_df.dropna( ...\n",
    "                                         \n",
    "# 4. Impriman 10 primeras y 10 últimas filas del dataframe final"
   ]
  },
  {
   "cell_type": "markdown",
   "metadata": {},
   "source": [
    "## 4. Estime el puntaje z de las regiones\n",
    "Para ello, modifique la función para generar dotplots de la semana pasada, donde deberá agregar\n",
    "una opción al argumento statistic para calcular el puntaje z.\n"
   ]
  },
  {
   "cell_type": "code",
   "execution_count": null,
   "metadata": {},
   "outputs": [],
   "source": [
    "def dotplot(df, plot_var, plot_by, global_stat = False, statistic = 'zscore'):\n",
    "    sub_df = df[[plot_by, plot_var]]\n",
    "    ...\n",
    "    if statistic == 'zscore':\n",
    "        sub_df['zscore'] = sub_df.plot_var ...\n",
    "        \n",
    "        # Al agrupar calculen la media del zscore.\n",
    "        sub_df_grouped = \n",
    "        "
   ]
  },
  {
   "cell_type": "markdown",
   "metadata": {},
   "source": [
    "## 5. Genere un método que devuelva un gráfico comparando dos curvas de densidad\n",
    "El método debe contener los siguientes argumentos:\n",
    "- df1 : Tabla de datos 1.\n",
    "- df2 : Tabla de datos 2.\n",
    "- variable : Variable a contrastar.\n",
    "- log : Booleano. Si es True transformar la variable al logaritmo. Por defecto debe ser False .\n"
   ]
  },
  {
   "cell_type": "code",
   "execution_count": null,
   "metadata": {},
   "outputs": [],
   "source": [
    "def plot_two_densities(df1, df2, variable, log=False):\n",
    "    \n",
    "# BONUS\n",
    "\n"
   ]
  }
 ],
 "metadata": {
  "kernelspec": {
   "display_name": "Python 3",
   "language": "python",
   "name": "python3"
  },
  "language_info": {
   "codemirror_mode": {
    "name": "ipython",
    "version": 3
   },
   "file_extension": ".py",
   "mimetype": "text/x-python",
   "name": "python",
   "nbconvert_exporter": "python",
   "pygments_lexer": "ipython3",
   "version": "3.7.3"
  }
 },
 "nbformat": 4,
 "nbformat_minor": 2
}
