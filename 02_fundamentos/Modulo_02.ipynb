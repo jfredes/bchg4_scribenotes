{
 "cells": [
  {
   "cell_type": "markdown",
   "metadata": {},
   "source": [
    "# Clase 2 Fundamentos DS"
   ]
  },
  {
   "cell_type": "code",
   "execution_count": 1,
   "metadata": {
    "scrolled": true
   },
   "outputs": [],
   "source": [
    "#@author: josue.fredes@gmail.com\n",
    "\n",
    "import pandas as pd\n",
    "\n",
    "df = pd.read_csv('data/alumnos.csv')"
   ]
  },
  {
   "cell_type": "code",
   "execution_count": 2,
   "metadata": {},
   "outputs": [
    {
     "data": {
      "text/plain": [
       "Index(['nombre', 'altura', 'peso', 'edad', 'sexo'], dtype='object')"
      ]
     },
     "execution_count": 2,
     "metadata": {},
     "output_type": "execute_result"
    }
   ],
   "source": [
    "df.columns"
   ]
  },
  {
   "cell_type": "markdown",
   "metadata": {},
   "source": [
    "## Comportamiento en Series"
   ]
  },
  {
   "cell_type": "code",
   "execution_count": 3,
   "metadata": {},
   "outputs": [
    {
     "data": {
      "text/plain": [
       "pandas.core.series.Series"
      ]
     },
     "execution_count": 3,
     "metadata": {},
     "output_type": "execute_result"
    }
   ],
   "source": [
    "type(df.altura)"
   ]
  },
  {
   "cell_type": "code",
   "execution_count": 4,
   "metadata": {
    "scrolled": true
   },
   "outputs": [
    {
     "name": "stdout",
     "output_type": "stream",
     "text": [
      "1.67 <class 'float'>\n",
      "1.73 <class 'float'>\n",
      "1.62 <class 'float'>\n",
      "1.58 <class 'float'>\n",
      "1.86 <class 'float'>\n",
      "1.79 <class 'float'>\n",
      "1.69 <class 'float'>\n",
      "1.6 <class 'float'>\n",
      "1.6 <class 'float'>\n",
      "1.98 <class 'float'>\n",
      "1.72 <class 'float'>\n",
      "1.63 <class 'float'>\n",
      "1.73 <class 'float'>\n",
      "1.62 <class 'float'>\n",
      "1.58 <class 'float'>\n",
      "1.86 <class 'float'>\n",
      "1.79 <class 'float'>\n",
      "1.6 <class 'float'>\n",
      "1.98 <class 'float'>\n",
      "1.72 <class 'float'>\n",
      "1.58 <class 'float'>\n"
     ]
    }
   ],
   "source": [
    "for i in df.altura:\n",
    "    print(i, type(i))"
   ]
  },
  {
   "cell_type": "code",
   "execution_count": 5,
   "metadata": {
    "scrolled": true
   },
   "outputs": [
    {
     "name": "stdout",
     "output_type": "stream",
     "text": [
      "0\n",
      "1\n",
      "2\n",
      "3\n",
      "4\n",
      "5\n",
      "6\n",
      "7\n",
      "8\n",
      "9\n",
      "10\n",
      "11\n",
      "12\n",
      "13\n",
      "14\n",
      "15\n",
      "16\n",
      "17\n",
      "18\n",
      "19\n",
      "20\n"
     ]
    }
   ],
   "source": [
    "for i in df['altura'].index:\n",
    "    print(i)"
   ]
  },
  {
   "cell_type": "code",
   "execution_count": 6,
   "metadata": {
    "scrolled": true
   },
   "outputs": [
    {
     "name": "stdout",
     "output_type": "stream",
     "text": [
      "3.34\n",
      "3.46\n",
      "3.24\n",
      "3.16\n",
      "3.72\n",
      "3.58\n",
      "3.38\n",
      "3.2\n",
      "3.2\n",
      "3.96\n",
      "3.44\n",
      "3.26\n",
      "3.46\n",
      "3.24\n",
      "3.16\n",
      "3.72\n",
      "3.58\n",
      "3.2\n",
      "3.96\n",
      "3.44\n",
      "3.16\n"
     ]
    }
   ],
   "source": [
    "for i in df.altura*2:\n",
    "    print(i)"
   ]
  },
  {
   "cell_type": "markdown",
   "metadata": {},
   "source": [
    "## Iteritems"
   ]
  },
  {
   "cell_type": "code",
   "execution_count": 7,
   "metadata": {},
   "outputs": [
    {
     "name": "stdout",
     "output_type": "stream",
     "text": [
      "nombre\n",
      "altura\n",
      "peso\n",
      "edad\n",
      "sexo\n"
     ]
    }
   ],
   "source": [
    "for colname in df.columns:\n",
    "    print(colname)"
   ]
  },
  {
   "cell_type": "code",
   "execution_count": 8,
   "metadata": {},
   "outputs": [
    {
     "name": "stdout",
     "output_type": "stream",
     "text": [
      "object\n",
      "float64\n",
      "int64\n",
      "int64\n",
      "object\n"
     ]
    }
   ],
   "source": [
    "for _, serie in df.iteritems():\n",
    "    print(serie.dtype)"
   ]
  },
  {
   "cell_type": "markdown",
   "metadata": {},
   "source": [
    "## Iterrows"
   ]
  },
  {
   "cell_type": "code",
   "execution_count": 9,
   "metadata": {
    "scrolled": true
   },
   "outputs": [
    {
     "name": "stdout",
     "output_type": "stream",
     "text": [
      "0\n",
      "1\n",
      "2\n",
      "3\n",
      "4\n",
      "5\n",
      "6\n",
      "7\n",
      "8\n",
      "9\n",
      "10\n",
      "11\n",
      "12\n",
      "13\n",
      "14\n",
      "15\n",
      "16\n",
      "17\n",
      "18\n",
      "19\n",
      "20\n"
     ]
    }
   ],
   "source": [
    "for rowname, serie in df.iterrows():\n",
    "    print(rowname)"
   ]
  },
  {
   "cell_type": "code",
   "execution_count": 10,
   "metadata": {},
   "outputs": [
    {
     "name": "stdout",
     "output_type": "stream",
     "text": [
      "nombre    Hugo\n",
      "altura    1.67\n",
      "peso        60\n",
      "edad        23\n",
      "sexo         h\n",
      "Name: 0, dtype: object\n"
     ]
    }
   ],
   "source": [
    "for rowname, serie in df.iterrows():\n",
    "    print(serie)\n",
    "    break"
   ]
  },
  {
   "cell_type": "markdown",
   "metadata": {},
   "source": [
    "## Boolean subset"
   ]
  },
  {
   "cell_type": "code",
   "execution_count": 11,
   "metadata": {},
   "outputs": [
    {
     "data": {
      "text/html": [
       "<div>\n",
       "<style scoped>\n",
       "    .dataframe tbody tr th:only-of-type {\n",
       "        vertical-align: middle;\n",
       "    }\n",
       "\n",
       "    .dataframe tbody tr th {\n",
       "        vertical-align: top;\n",
       "    }\n",
       "\n",
       "    .dataframe thead th {\n",
       "        text-align: right;\n",
       "    }\n",
       "</style>\n",
       "<table border=\"1\" class=\"dataframe\">\n",
       "  <thead>\n",
       "    <tr style=\"text-align: right;\">\n",
       "      <th></th>\n",
       "      <th>nombre</th>\n",
       "      <th>altura</th>\n",
       "      <th>peso</th>\n",
       "      <th>edad</th>\n",
       "      <th>sexo</th>\n",
       "    </tr>\n",
       "  </thead>\n",
       "  <tbody>\n",
       "    <tr>\n",
       "      <th>0</th>\n",
       "      <td>Diana</td>\n",
       "      <td>1.58</td>\n",
       "      <td>58</td>\n",
       "      <td>21</td>\n",
       "      <td>m</td>\n",
       "    </tr>\n",
       "    <tr>\n",
       "      <th>1</th>\n",
       "      <td>Marisol</td>\n",
       "      <td>1.60</td>\n",
       "      <td>56</td>\n",
       "      <td>30</td>\n",
       "      <td>m</td>\n",
       "    </tr>\n",
       "    <tr>\n",
       "      <th>2</th>\n",
       "      <td>Camila</td>\n",
       "      <td>1.63</td>\n",
       "      <td>57</td>\n",
       "      <td>26</td>\n",
       "      <td>m</td>\n",
       "    </tr>\n",
       "  </tbody>\n",
       "</table>\n",
       "</div>"
      ],
      "text/plain": [
       "    nombre  altura  peso  edad sexo\n",
       "0    Diana    1.58    58    21    m\n",
       "1  Marisol    1.60    56    30    m\n",
       "2   Camila    1.63    57    26    m"
      ]
     },
     "execution_count": 11,
     "metadata": {},
     "output_type": "execute_result"
    }
   ],
   "source": [
    "df = df[(df.peso < 60)].reset_index(drop=True)\n",
    "df.head()"
   ]
  },
  {
   "cell_type": "markdown",
   "metadata": {},
   "source": [
    "## Iterrows condicionales"
   ]
  },
  {
   "cell_type": "code",
   "execution_count": 13,
   "metadata": {},
   "outputs": [
    {
     "name": "stdout",
     "output_type": "stream",
     "text": [
      "85.33333333333333\n"
     ]
    }
   ],
   "source": [
    "#Cargar datos originales\n",
    "df = pd.read_csv('data/alumnos.csv')\n",
    "\n",
    "# Calcular media del peso sobre hombres\n",
    "mean_male = 0\n",
    "count = 0\n",
    "for index, rowserie in df.iterrows():\n",
    "    if rowserie['sexo'] == 'h':\n",
    "        mean_male += rowserie.peso\n",
    "        count += 1\n",
    "\n",
    "print(mean_male/count)"
   ]
  },
  {
   "cell_type": "code",
   "execution_count": 14,
   "metadata": {},
   "outputs": [
    {
     "data": {
      "text/plain": [
       "h    12\n",
       "m     9\n",
       "Name: sexo, dtype: int64"
      ]
     },
     "execution_count": 14,
     "metadata": {},
     "output_type": "execute_result"
    }
   ],
   "source": [
    "df.sexo.value_counts()"
   ]
  },
  {
   "cell_type": "code",
   "execution_count": 15,
   "metadata": {},
   "outputs": [
    {
     "name": "stdout",
     "output_type": "stream",
     "text": [
      "       nombre  altura  peso  edad sexo\n",
      "0        Hugo    1.67    60    23    h\n",
      "1        Paco    1.73    83    25    h\n",
      "2        Luis    1.62    70    28    h\n",
      "3       Diana    1.58    58    21    m\n",
      "4   Francisco    1.86    98    28    h\n",
      "5      Felipe    1.79   100    26    h\n",
      "6     Jacinta    1.69    62    20    m\n",
      "7    Bernardo    1.60    83    31    h\n",
      "8     Marisol    1.60    56    30    m\n",
      "9     Facundo    1.98   112    36    h\n",
      "10   Trinidad    1.72    72    21    m\n",
      "11     Camila    1.63    57    26    m\n",
      "12   Macarena    1.73    68    27    m\n",
      "13      Diego    1.62    78    23    h\n",
      "14    Gonzalo    1.58    67    22    h\n",
      "15  Alejandra    1.86    74    21    m\n",
      "16   Fernando    1.79    93    27    h\n",
      "17   Carolina    1.60    63    28    m\n",
      "18    Vicente    1.98   102    31    h\n",
      "19   Benjamín    1.72    78    36    h\n",
      "20     Gloria    1.58    65    23    m\n"
     ]
    },
    {
     "name": "stderr",
     "output_type": "stream",
     "text": [
      "/usr/local/lib/python3.7/dist-packages/pandas/core/generic.py:5096: SettingWithCopyWarning: \n",
      "A value is trying to be set on a copy of a slice from a DataFrame.\n",
      "Try using .loc[row_indexer,col_indexer] = value instead\n",
      "\n",
      "See the caveats in the documentation: http://pandas.pydata.org/pandas-docs/stable/indexing.html#indexing-view-versus-copy\n",
      "  self[name] = value\n"
     ]
    }
   ],
   "source": [
    "df[df.sexo=='h'].sexo = 'hombre'\n",
    "print(df)"
   ]
  },
  {
   "cell_type": "code",
   "execution_count": 16,
   "metadata": {},
   "outputs": [
    {
     "name": "stdout",
     "output_type": "stream",
     "text": [
      "       nombre  altura  peso  edad    sexo\n",
      "0        Hugo    1.67    60    23  hombre\n",
      "1        Paco    1.73    83    25  hombre\n",
      "2        Luis    1.62    70    28  hombre\n",
      "3       Diana    1.58    58    21       m\n",
      "4   Francisco    1.86    98    28  hombre\n",
      "5      Felipe    1.79   100    26  hombre\n",
      "6     Jacinta    1.69    62    20       m\n",
      "7    Bernardo    1.60    83    31  hombre\n",
      "8     Marisol    1.60    56    30       m\n",
      "9     Facundo    1.98   112    36  hombre\n",
      "10   Trinidad    1.72    72    21       m\n",
      "11     Camila    1.63    57    26       m\n",
      "12   Macarena    1.73    68    27       m\n",
      "13      Diego    1.62    78    23  hombre\n",
      "14    Gonzalo    1.58    67    22  hombre\n",
      "15  Alejandra    1.86    74    21       m\n",
      "16   Fernando    1.79    93    27  hombre\n",
      "17   Carolina    1.60    63    28       m\n",
      "18    Vicente    1.98   102    31  hombre\n",
      "19   Benjamín    1.72    78    36  hombre\n",
      "20     Gloria    1.58    65    23       m\n"
     ]
    }
   ],
   "source": [
    "df.loc[df.sexo=='h', 'sexo'] = 'hombre'\n",
    "\n",
    "print(df)"
   ]
  },
  {
   "cell_type": "code",
   "execution_count": 17,
   "metadata": {},
   "outputs": [
    {
     "name": "stdout",
     "output_type": "stream",
     "text": [
      "       nombre  altura  peso  edad    sexo\n",
      "0        Hugo    1.67    60    23  hombre\n",
      "1        Paco    1.73    83    25  hombre\n",
      "2        Luis    1.62    70    28  hombre\n",
      "3       Diana    1.58    58    21  hombre\n",
      "4   Francisco    1.86    98    28  hombre\n",
      "5      Felipe    1.79   100    26  hombre\n",
      "6     Jacinta    1.69    62    20  hombre\n",
      "7    Bernardo    1.60    83    31  hombre\n",
      "8     Marisol    1.60    56    30  hombre\n",
      "9     Facundo    1.98   112    36  hombre\n",
      "10   Trinidad    1.72    72    21  hombre\n",
      "11     Camila    1.63    57    26  hombre\n",
      "12   Macarena    1.73    68    27  hombre\n",
      "13      Diego    1.62    78    23  hombre\n",
      "14    Gonzalo    1.58    67    22  hombre\n",
      "15  Alejandra    1.86    74    21  hombre\n",
      "16   Fernando    1.79    93    27  hombre\n",
      "17   Carolina    1.60    63    28  hombre\n",
      "18    Vicente    1.98   102    31  hombre\n",
      "19   Benjamín    1.72    78    36  hombre\n",
      "20     Gloria    1.58    65    23  hombre\n"
     ]
    }
   ],
   "source": [
    "df['sexo'] = 'hombre'\n",
    "print(df)"
   ]
  }
 ],
 "metadata": {
  "kernelspec": {
   "display_name": "Python 3",
   "language": "python",
   "name": "python3"
  },
  "language_info": {
   "codemirror_mode": {
    "name": "ipython",
    "version": 3
   },
   "file_extension": ".py",
   "mimetype": "text/x-python",
   "name": "python",
   "nbconvert_exporter": "python",
   "pygments_lexer": "ipython3",
   "version": "3.7.3"
  }
 },
 "nbformat": 4,
 "nbformat_minor": 2
}
